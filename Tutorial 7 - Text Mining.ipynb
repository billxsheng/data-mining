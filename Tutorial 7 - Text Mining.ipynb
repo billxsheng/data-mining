{
  "nbformat": 4,
  "nbformat_minor": 0,
  "metadata": {
    "kernelspec": {
      "display_name": "Python 3",
      "language": "python",
      "name": "python3"
    },
    "language_info": {
      "codemirror_mode": {
        "name": "ipython",
        "version": 3
      },
      "file_extension": ".py",
      "mimetype": "text/x-python",
      "name": "python",
      "nbconvert_exporter": "python",
      "pygments_lexer": "ipython3",
      "version": "3.6.7"
    },
    "colab": {
      "name": "Tutorial - Text Mining.ipynb",
      "provenance": [],
      "collapsed_sections": []
    }
  },
  "cells": [
    {
      "cell_type": "code",
      "metadata": {
        "id": "0AUkueFGcSED",
        "colab_type": "code",
        "colab": {}
      },
      "source": [
        "import numpy as np\n",
        "import pandas as pd\n",
        "from sklearn import decomposition\n",
        "from scipy import linalg"
      ],
      "execution_count": 0,
      "outputs": []
    },
    {
      "cell_type": "markdown",
      "metadata": {
        "id": "gslaBKrBSRbq",
        "colab_type": "text"
      },
      "source": [
        "# Importing comments and posts datasets"
      ]
    },
    {
      "cell_type": "code",
      "metadata": {
        "id": "piaoY27GSRbq",
        "colab_type": "code",
        "outputId": "c847dd3d-9622-4010-99dd-fcaf59bb8061",
        "colab": {
          "base_uri": "https://localhost:8080/",
          "height": 204
        }
      },
      "source": [
        "mental_comments = pd.read_csv('textMining.csv')\n",
        "mental_comments.head()"
      ],
      "execution_count": 0,
      "outputs": [
        {
          "output_type": "execute_result",
          "data": {
            "text/html": [
              "<div>\n",
              "<style scoped>\n",
              "    .dataframe tbody tr th:only-of-type {\n",
              "        vertical-align: middle;\n",
              "    }\n",
              "\n",
              "    .dataframe tbody tr th {\n",
              "        vertical-align: top;\n",
              "    }\n",
              "\n",
              "    .dataframe thead th {\n",
              "        text-align: right;\n",
              "    }\n",
              "</style>\n",
              "<table border=\"1\" class=\"dataframe\">\n",
              "  <thead>\n",
              "    <tr style=\"text-align: right;\">\n",
              "      <th></th>\n",
              "      <th>id</th>\n",
              "      <th>label</th>\n",
              "      <th>Category</th>\n",
              "      <th>Category old</th>\n",
              "      <th>selftext</th>\n",
              "      <th>Column1</th>\n",
              "      <th>Unnamed: 6</th>\n",
              "      <th>Unnamed: 7</th>\n",
              "    </tr>\n",
              "  </thead>\n",
              "  <tbody>\n",
              "    <tr>\n",
              "      <th>0</th>\n",
              "      <td>13.0</td>\n",
              "      <td>1</td>\n",
              "      <td>Competition</td>\n",
              "      <td>Competition</td>\n",
              "      <td>A stress I always find myself undergoing is th...</td>\n",
              "      <td>NaN</td>\n",
              "      <td>rare</td>\n",
              "      <td>0.0</td>\n",
              "    </tr>\n",
              "    <tr>\n",
              "      <th>1</th>\n",
              "      <td>17.0</td>\n",
              "      <td>1</td>\n",
              "      <td>Competition</td>\n",
              "      <td>Competition</td>\n",
              "      <td>I've had it reviewed by a few upper years and ...</td>\n",
              "      <td>NaN</td>\n",
              "      <td>Other</td>\n",
              "      <td>0.0</td>\n",
              "    </tr>\n",
              "    <tr>\n",
              "      <th>2</th>\n",
              "      <td>48.0</td>\n",
              "      <td>1</td>\n",
              "      <td>Competition</td>\n",
              "      <td>Interview</td>\n",
              "      <td>Feeling stressed out. My job hunt is not going...</td>\n",
              "      <td>NaN</td>\n",
              "      <td>Working Environment</td>\n",
              "      <td>14.0</td>\n",
              "    </tr>\n",
              "    <tr>\n",
              "      <th>3</th>\n",
              "      <td>68.0</td>\n",
              "      <td>1</td>\n",
              "      <td>Competition</td>\n",
              "      <td>Competition</td>\n",
              "      <td>yo i feel you. a bunch of my friends are in sf...</td>\n",
              "      <td>NaN</td>\n",
              "      <td>NaN</td>\n",
              "      <td>NaN</td>\n",
              "    </tr>\n",
              "    <tr>\n",
              "      <th>4</th>\n",
              "      <td>301.0</td>\n",
              "      <td>1</td>\n",
              "      <td>Working Environment</td>\n",
              "      <td>Other</td>\n",
              "      <td>This is my last Monday of the co-op term. I st...</td>\n",
              "      <td>NaN</td>\n",
              "      <td>NaN</td>\n",
              "      <td>NaN</td>\n",
              "    </tr>\n",
              "  </tbody>\n",
              "</table>\n",
              "</div>"
            ],
            "text/plain": [
              "      id  label             Category  ... Column1           Unnamed: 6  Unnamed: 7\n",
              "0   13.0      1          Competition  ...     NaN                 rare         0.0\n",
              "1   17.0      1          Competition  ...     NaN                Other         0.0\n",
              "2   48.0      1          Competition  ...     NaN  Working Environment        14.0\n",
              "3   68.0      1          Competition  ...     NaN                  NaN         NaN\n",
              "4  301.0      1  Working Environment  ...     NaN                  NaN         NaN\n",
              "\n",
              "[5 rows x 8 columns]"
            ]
          },
          "metadata": {
            "tags": []
          },
          "execution_count": 2
        }
      ]
    },
    {
      "cell_type": "code",
      "metadata": {
        "id": "95D2dbBOSRb6",
        "colab_type": "code",
        "colab": {}
      },
      "source": [
        "from sklearn.feature_extraction import stop_words\n",
        "import nltk \n",
        "# nltk.download('wordnet')\n",
        "# nltk.download('stopwords')\n",
        "stopwords = nltk.corpus.stopwords.words('english')\n",
        "\n",
        "import re,string\n",
        "\n",
        "def clean_text(text):\n",
        "  text = ' '.join([word for word in text.split() if word not in stopwords])\n",
        "  text = ''.join([word for word in text if word not in string.punctuation])\n",
        "  text = text.lower()\n",
        "  return text"
      ],
      "execution_count": 0,
      "outputs": []
    },
    {
      "cell_type": "code",
      "metadata": {
        "id": "Ezy5UlWnSRcC",
        "colab_type": "code",
        "outputId": "1473e6a4-1d39-46b8-ebed-93df97eb5551",
        "colab": {
          "base_uri": "https://localhost:8080/",
          "height": 306
        }
      },
      "source": [
        "wn = nltk.WordNetLemmatizer()\n",
        "def lemmatizing(text):\n",
        "  text = [wn.lemmatize(word) for word in text.split()]\n",
        "  return str(text)\n",
        "mental_comments['non_stop'] = mental_comments['selftext'].apply(lambda x: clean_text(str(x.strip())))\n",
        "mental_comments['lemm'] = mental_comments['non_stop'].apply(lambda x: lemmatizing(x))\n",
        "mental_comments.head()"
      ],
      "execution_count": 0,
      "outputs": [
        {
          "output_type": "execute_result",
          "data": {
            "text/html": [
              "<div>\n",
              "<style scoped>\n",
              "    .dataframe tbody tr th:only-of-type {\n",
              "        vertical-align: middle;\n",
              "    }\n",
              "\n",
              "    .dataframe tbody tr th {\n",
              "        vertical-align: top;\n",
              "    }\n",
              "\n",
              "    .dataframe thead th {\n",
              "        text-align: right;\n",
              "    }\n",
              "</style>\n",
              "<table border=\"1\" class=\"dataframe\">\n",
              "  <thead>\n",
              "    <tr style=\"text-align: right;\">\n",
              "      <th></th>\n",
              "      <th>id</th>\n",
              "      <th>label</th>\n",
              "      <th>Category</th>\n",
              "      <th>Category old</th>\n",
              "      <th>selftext</th>\n",
              "      <th>Column1</th>\n",
              "      <th>Unnamed: 6</th>\n",
              "      <th>Unnamed: 7</th>\n",
              "      <th>non_stop</th>\n",
              "      <th>lemm</th>\n",
              "    </tr>\n",
              "  </thead>\n",
              "  <tbody>\n",
              "    <tr>\n",
              "      <th>0</th>\n",
              "      <td>13.0</td>\n",
              "      <td>1</td>\n",
              "      <td>Competition</td>\n",
              "      <td>Competition</td>\n",
              "      <td>A stress I always find myself undergoing is th...</td>\n",
              "      <td>NaN</td>\n",
              "      <td>rare</td>\n",
              "      <td>0.0</td>\n",
              "      <td>a stress i always find undergoing i feel scare...</td>\n",
              "      <td>['a', 'stress', 'i', 'always', 'find', 'underg...</td>\n",
              "    </tr>\n",
              "    <tr>\n",
              "      <th>1</th>\n",
              "      <td>17.0</td>\n",
              "      <td>1</td>\n",
              "      <td>Competition</td>\n",
              "      <td>Competition</td>\n",
              "      <td>I've had it reviewed by a few upper years and ...</td>\n",
              "      <td>NaN</td>\n",
              "      <td>Other</td>\n",
              "      <td>0.0</td>\n",
              "      <td>ive reviewed upper years friends class before ...</td>\n",
              "      <td>['ive', 'reviewed', 'upper', 'year', 'friend',...</td>\n",
              "    </tr>\n",
              "    <tr>\n",
              "      <th>2</th>\n",
              "      <td>48.0</td>\n",
              "      <td>1</td>\n",
              "      <td>Competition</td>\n",
              "      <td>Interview</td>\n",
              "      <td>Feeling stressed out. My job hunt is not going...</td>\n",
              "      <td>NaN</td>\n",
              "      <td>Working Environment</td>\n",
              "      <td>14.0</td>\n",
              "      <td>feeling stressed out my job hunt going well la...</td>\n",
              "      <td>['feeling', 'stressed', 'out', 'my', 'job', 'h...</td>\n",
              "    </tr>\n",
              "    <tr>\n",
              "      <th>3</th>\n",
              "      <td>68.0</td>\n",
              "      <td>1</td>\n",
              "      <td>Competition</td>\n",
              "      <td>Competition</td>\n",
              "      <td>yo i feel you. a bunch of my friends are in sf...</td>\n",
              "      <td>NaN</td>\n",
              "      <td>NaN</td>\n",
              "      <td>NaN</td>\n",
              "      <td>yo feel you bunch friends sf term i really str...</td>\n",
              "      <td>['yo', 'feel', 'you', 'bunch', 'friend', 'sf',...</td>\n",
              "    </tr>\n",
              "    <tr>\n",
              "      <th>4</th>\n",
              "      <td>301.0</td>\n",
              "      <td>1</td>\n",
              "      <td>Working Environment</td>\n",
              "      <td>Other</td>\n",
              "      <td>This is my last Monday of the co-op term. I st...</td>\n",
              "      <td>NaN</td>\n",
              "      <td>NaN</td>\n",
              "      <td>NaN</td>\n",
              "      <td>this last monday coop term i started really en...</td>\n",
              "      <td>['this', 'last', 'monday', 'coop', 'term', 'i'...</td>\n",
              "    </tr>\n",
              "  </tbody>\n",
              "</table>\n",
              "</div>"
            ],
            "text/plain": [
              "      id  ...                                               lemm\n",
              "0   13.0  ...  ['a', 'stress', 'i', 'always', 'find', 'underg...\n",
              "1   17.0  ...  ['ive', 'reviewed', 'upper', 'year', 'friend',...\n",
              "2   48.0  ...  ['feeling', 'stressed', 'out', 'my', 'job', 'h...\n",
              "3   68.0  ...  ['yo', 'feel', 'you', 'bunch', 'friend', 'sf',...\n",
              "4  301.0  ...  ['this', 'last', 'monday', 'coop', 'term', 'i'...\n",
              "\n",
              "[5 rows x 10 columns]"
            ]
          },
          "metadata": {
            "tags": []
          },
          "execution_count": 25
        }
      ]
    },
    {
      "cell_type": "code",
      "metadata": {
        "id": "oJt9nz50SRcT",
        "colab_type": "code",
        "colab": {}
      },
      "source": [
        ""
      ],
      "execution_count": 0,
      "outputs": []
    },
    {
      "cell_type": "markdown",
      "metadata": {
        "id": "LKBc4sJISRcY",
        "colab_type": "text"
      },
      "source": [
        "### Creating TF-IDF Matrix"
      ]
    },
    {
      "cell_type": "code",
      "metadata": {
        "id": "dSlHnfI_SRcZ",
        "colab_type": "code",
        "colab": {}
      },
      "source": [
        "from sklearn.feature_extraction.text import TfidfVectorizer\n",
        "vectorizer_tfidf = TfidfVectorizer(stop_words='english')\n",
        "vectors_tfidf = vectorizer_tfidf.fit_transform(mental_comments['lemm'])"
      ],
      "execution_count": 0,
      "outputs": []
    },
    {
      "cell_type": "markdown",
      "metadata": {
        "id": "5TsDMOPqSRck",
        "colab_type": "text"
      },
      "source": [
        "### Applying topic modeling on top of it"
      ]
    },
    {
      "cell_type": "code",
      "metadata": {
        "id": "Md2DqKQYTRpW",
        "colab_type": "code",
        "outputId": "aed8bf07-1402-4446-9661-08c8b0aba1ab",
        "colab": {
          "base_uri": "https://localhost:8080/",
          "height": 136
        }
      },
      "source": [
        "import collections\n",
        "clf = decomposition.NMF(n_components=6,random_state=1)\n",
        "W1 = clf.fit_transform(vectors_tfidf)\n",
        "H1 = clf.components_\n",
        "vocab = np.array(vectorizer_tfidf.get_feature_names())\n",
        "topics_frequency = collections.Counter(np.array(W1.argsort()[:,-1]))\n",
        "topics_frequency = collections.OrderedDict(sorted(topics_frequency.items(),key= lambda kv: kv[1],reverse=True))\n",
        "total_comments_count = sum(topics_frequency.values())\n",
        "\n",
        "print('top ',6)\n",
        "for k,v in topics_frequency.items():\n",
        "  print('Topic {}:{}'.format(k+1, \", \".join([str(x) for x in vocab[(-H1[k]).argsort(axis=-1)[:10]]])))"
      ],
      "execution_count": 0,
      "outputs": [
        {
          "output_type": "stream",
          "text": [
            "top  6\n",
            "Topic 1:feel, like, really, im, work, ive, people, going, friend, want\n",
            "Topic 4:interview, im, ill, today, resume, midterm, got, week, said, ampx200b\n",
            "Topic 2:course, learn, winter, heard, website, midterm, took, final, assignment, spring\n",
            "Topic 3:term, coop, im, week, left, going, bad, fall, super, scared\n",
            "Topic 6:program, hey, arbus, know, business, art, let, guy, using, offer\n",
            "Topic 5:job, got, bad, coop, interviewed, stress, feeling, point, sure, like\n"
          ],
          "name": "stdout"
        }
      ]
    },
    {
      "cell_type": "code",
      "metadata": {
        "id": "iZ0fm_QQkUo6",
        "colab_type": "code",
        "colab": {}
      },
      "source": [
        ""
      ],
      "execution_count": 0,
      "outputs": []
    }
  ]
}